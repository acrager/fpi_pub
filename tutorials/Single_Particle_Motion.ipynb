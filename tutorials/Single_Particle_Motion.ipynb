{
 "cells": [
  {
   "cell_type": "markdown",
   "metadata": {
    "toc": true
   },
   "source": [
    "<h1>Table of Contents<span class=\"tocSkip\"></span></h1>\n",
    "<div class=\"toc\" style=\"margin-top: 1em;\"><ul class=\"toc-item\"><li><span><a href=\"#Single-Particle-Motion-Animation\" data-toc-modified-id=\"Single-Particle-Motion-Animation-1\"><span class=\"toc-item-num\">1&nbsp;&nbsp;</span>Single Particle Motion Animation</a></span><ul class=\"toc-item\"><li><span><a href=\"#Load-Modules-and-Definitions\" data-toc-modified-id=\"Load-Modules-and-Definitions-1.1\"><span class=\"toc-item-num\">1.1&nbsp;&nbsp;</span>Load Modules and Definitions</a></span></li><li><span><a href=\"#From-Plot.ly-Online-Tutorial:\" data-toc-modified-id=\"From-Plot.ly-Online-Tutorial:-1.2\"><span class=\"toc-item-num\">1.2&nbsp;&nbsp;</span>From Plot.ly Online Tutorial:</a></span></li><li><span><a href=\"#Modifiying-the-tutorials\" data-toc-modified-id=\"Modifiying-the-tutorials-1.3\"><span class=\"toc-item-num\">1.3&nbsp;&nbsp;</span>Modifiying the tutorials</a></span></li><li><span><a href=\"#Projectile-Motion\" data-toc-modified-id=\"Projectile-Motion-1.4\"><span class=\"toc-item-num\">1.4&nbsp;&nbsp;</span>Projectile Motion</a></span></li><li><span><a href=\"#$E-\\times-B$-Drift\" data-toc-modified-id=\"$E-\\times-B$-Drift-1.5\"><span class=\"toc-item-num\">1.5&nbsp;&nbsp;</span>$E \\times B$ Drift</a></span></li></ul></li></ul></div>"
   ]
  },
  {
   "cell_type": "markdown",
   "metadata": {},
   "source": [
    "# Single Particle Motion Animation"
   ]
  },
  {
   "cell_type": "markdown",
   "metadata": {},
   "source": [
    "## Load Modules and Definitions"
   ]
  },
  {
   "cell_type": "code",
   "execution_count": null,
   "metadata": {},
   "outputs": [],
   "source": [
    "### Load Modules\n",
    "# ----- Graphing ------\n",
    "\n",
    "# Plotly\n",
    "import plotly.plotly as py\n",
    "import plotly.graph_objs as go\n",
    "import plotly.tools as tls\n",
    "import plotly.offline as offline\n",
    "\n",
    "# ----- Other ------\n",
    "import re\n",
    "\n",
    "### Update Plot Settings\n",
    "\n",
    "# Use Seaborn style and increase font size scale\n",
    "#sns.set(font_scale=1.5)\n",
    "\n",
    "# Run in offline mode for Plotly (offline = free)\n",
    "from plotly.offline import download_plotlyjs, init_notebook_mode, plot, iplot\n",
    "init_notebook_mode(connected=True)\n",
    "\n",
    "### Change Default Jupyter Notebook Settings\n",
    "# Add a feature for 'implied print' for all lines of a call\n",
    "# (rather than just the last line of the cell)\n",
    "from IPython.core.interactiveshell import InteractiveShell\n",
    "InteractiveShell.ast_node_interactivity = \"all\"\n",
    "\n",
    "# Add a feature for printing with Markdown formatting\n",
    "from IPython.display import Markdown, display, HTML\n",
    "def printmd(string):\n",
    "    display(Markdown(string))"
   ]
  },
  {
   "cell_type": "code",
   "execution_count": null,
   "metadata": {},
   "outputs": [],
   "source": [
    "### Load Modules\n",
    "# ----- Math ------\n",
    "import numpy as np\n",
    "import pandas as pd\n",
    "from numpy.core.umath_tests import inner1d\n",
    "\n",
    "# Ignore divide by zero errors\n",
    "np.seterr(divide='ignore', invalid='ignore');\n",
    "\n",
    "# Class Defintions\n",
    "\n",
    "class Vector(object):\n",
    "    \"\"\"This module turns three individual components into a vector\"\"\"\n",
    "    def __init__(self, x, y, z):\n",
    "        self.x = np.array(x)\n",
    "        self.y = np.array(y)\n",
    "        self.z = np.array(z)\n",
    "\n",
    "    def vec(self):\n",
    "        \"vector\"\n",
    "        return np.column_stack((self.x,self.y,self.z))\n",
    "    \n",
    "    def mag(self):\n",
    "        \"magnitude\"\n",
    "        return np.linalg.norm([self.x,self.y,self.z], axis=0)\n",
    "    \n",
    "    def hat(self):\n",
    "        \"direction\"\n",
    "        return np.column_stack(\n",
    "            [np.divide(self.x, self.mag()), \n",
    "             np.divide(self.y, self.mag()), \n",
    "             np.divide(self.z, self.mag())])\n",
    "    \n",
    "    def para(self, reference_vector):\n",
    "        \"parallel\"\n",
    "        return(inner1d(self.vec(), reference_vector.vec()))\n",
    "    \n",
    "    def para_vec(self, reference_vector): \n",
    "        \"parallel vector\"\n",
    "        return np.transpose(\n",
    "            np.multiply(\n",
    "                self.para(reference_vector), \n",
    "                np.transpose(reference_vector.vec())))\n",
    "    \n",
    "    def perp(self, reference_vector):\n",
    "        \"perpendicular\"\n",
    "        return np.subtract(\n",
    "            self.vec(), \n",
    "            self.para_vec(reference_vector))\n",
    "    \n",
    "    def __repr__(self):\n",
    "        return np.array_str(self.vec())\n",
    "    \n",
    "    \n",
    "class Tensor(object):\n",
    "    \"\"\"This module turns nine individual components into a tensor\"\"\"\n",
    "    def __init__(self, xx, xy, xz, yx, yy, yz, zx, zy, zz):\n",
    "        self.xx = np.array(xx)\n",
    "        self.xy = np.array(xy)\n",
    "        self.xz = np.array(xz)\n",
    "        \n",
    "        self.yx = np.array(yx)\n",
    "        self.yy = np.array(yy)\n",
    "        self.yz = np.array(yz)\n",
    "        \n",
    "        self.zx = np.array(zx)\n",
    "        self.zy = np.array(zy)\n",
    "        self.zz = np.array(zz)\n",
    "        \n",
    "    def R1(self):\n",
    "        \"tensor row #1\"\n",
    "        return np.column_stack([self.xx,self.xy,self.xz])\n",
    "    \n",
    "    def R2(self):\n",
    "        \"tensor row #2\"\n",
    "        return np.column_stack([self.yx,self.yy,self.yz])\n",
    "    \n",
    "    def R3(self):\n",
    "        \"tensor row #3\"\n",
    "        return np.column_stack([self.zx,self.zy,self.zz])\n",
    "    \n",
    "    def trace(self):\n",
    "        return np.sum(np.array([self.xx, self.yy, self.zz]), axis=0)\n",
    "    \n",
    "    def para(self, reference_vector):\n",
    "        \"parallel\"\n",
    "        para_r1 = inner1d(self.R1(), reference_vector.vec())\n",
    "        para_r2 = inner1d(self.R2(), reference_vector.vec())\n",
    "        para_r3 = inner1d(self.R3(), reference_vector.vec())\n",
    "        para_vec = np.column_stack([para_r1, para_r2, para_r3])\n",
    "        return inner1d(para_vec, reference_vector.vec())\n",
    "    \n",
    "    def perp(self, reference_vector):\n",
    "        \"perpendicular\"\n",
    "        return np.multiply(.5, np.subtract(\n",
    "            self.trace(),\n",
    "            self.para(reference_vector)))"
   ]
  },
  {
   "cell_type": "markdown",
   "metadata": {},
   "source": [
    "## From Plot.ly Online Tutorial:"
   ]
  },
  {
   "cell_type": "markdown",
   "metadata": {},
   "source": [
    "Source: https://plot.ly/python/animations/"
   ]
  },
  {
   "cell_type": "code",
   "execution_count": null,
   "metadata": {
    "collapsed": true
   },
   "outputs": [],
   "source": [
    "figure = {'data': [{'x': [0, 1], 'y': [0, 1]}],\n",
    "          'layout': {'xaxis': {'range': [0, 5], 'autorange': False},\n",
    "                     'yaxis': {'range': [0, 5], 'autorange': False},\n",
    "                     'title': 'Start Title',\n",
    "                     'updatemenus': [{'type': 'buttons',\n",
    "                                      'buttons': [{'label': 'Play',\n",
    "                                                   'method': 'animate',\n",
    "                                                   'args': [None]}]}]\n",
    "                    },\n",
    "          'frames': [{'data': [{'x': [1, 2], 'y': [1, 2]}]},\n",
    "                     {'data': [{'x': [1, 4], 'y': [1, 4]}]},\n",
    "                     {'data': [{'x': [3, 4], 'y': [3, 4]}],\n",
    "                      'layout': {'title': 'End Title'}}]}"
   ]
  },
  {
   "cell_type": "code",
   "execution_count": null,
   "metadata": {},
   "outputs": [],
   "source": [
    "iplot(figure)"
   ]
  },
  {
   "cell_type": "code",
   "execution_count": null,
   "metadata": {},
   "outputs": [],
   "source": [
    "t=np.linspace(-1,1,100)\n",
    "x=t+t**2\n",
    "y=t-t**2\n",
    "xm=np.min(x)-1.5\n",
    "xM=np.max(x)+1.5\n",
    "ym=np.min(y)-1.5\n",
    "yM=np.max(y)+1.5\n",
    "N=50\n",
    "s=np.linspace(-1,1,N)\n",
    "xx=s+s**2\n",
    "yy=s-s**2\n",
    "\n",
    "\n",
    "data=[dict(x=x, y=y, \n",
    "           mode='lines', \n",
    "           line=dict(width=2, color='blue')\n",
    "          ),\n",
    "      dict(x=x, y=y, \n",
    "           mode='lines', \n",
    "           line=dict(width=2, color='blue')\n",
    "          )\n",
    "    ]\n",
    "\n",
    "layout=dict(xaxis=dict(range=[xm, xM], autorange=False, zeroline=False),\n",
    "            yaxis=dict(range=[ym, yM], autorange=False, zeroline=False),\n",
    "            title='Kinematic Generation of a Planar Curve', \n",
    "            hovermode='closest',\n",
    "            updatemenus= [{\n",
    "                'buttons': [\n",
    "                    {\n",
    "                        'args': [None, {'frame': {'duration': 500, \n",
    "                                                  'redraw': False},\n",
    "                                        'fromcurrent': True, \n",
    "                                        'transition': {'duration': 300, \n",
    "                                                       'easing': 'quadratic-in-out'}}],\n",
    "                        'label': 'Play',\n",
    "                        'method': 'animate'\n",
    "                    },\n",
    "                    {\n",
    "                        'args': [[None], {'frame': {'duration': 0, \n",
    "                                                    'redraw': False}, \n",
    "                                          'mode': 'immediate',\n",
    "                                          'transition': {'duration': 0}}],\n",
    "                        'label': 'Pause',\n",
    "                        'method': 'animate'\n",
    "                    }],\n",
    "                'direction': 'left',\n",
    "                'pad': {'r': 10, 't': 87},\n",
    "                'showactive': False,\n",
    "                'type': 'buttons',\n",
    "                'x': 0.1,\n",
    "                'xanchor': 'right',\n",
    "                'y': 0,\n",
    "                'yanchor': 'top'\n",
    "            }])\n",
    "\n",
    "frames=[dict(data=[dict(x=[xx[k]], \n",
    "                        y=[yy[k]], \n",
    "                        mode='markers', \n",
    "                        marker=dict(color='red', size=8)\n",
    "                        )\n",
    "                  ]) for k in range(N)]    \n",
    "          \n",
    "figure1=dict(data=data, layout=layout, frames=frames)          \n",
    "iplot(figure1)"
   ]
  },
  {
   "cell_type": "markdown",
   "metadata": {
    "collapsed": true
   },
   "source": [
    "## Modifiying the tutorials"
   ]
  },
  {
   "cell_type": "code",
   "execution_count": null,
   "metadata": {
    "collapsed": true
   },
   "outputs": [],
   "source": [
    "#Define the datapoints\n",
    "xx=s+s**2\n",
    "yy=s-s**2\n",
    "\n",
    "# Define the line\n",
    "t = np.linspace(0, 10, 100)\n",
    "x = np.linspace(0, 10, 100)\n",
    "y = np.linspace(0, 10, 100)\n",
    "\n",
    "xx = x\n",
    "yy = y\n",
    "\n",
    "N = len(xx)#np.linspace(0, 10, 100)"
   ]
  },
  {
   "cell_type": "code",
   "execution_count": null,
   "metadata": {
    "collapsed": true
   },
   "outputs": [],
   "source": [
    "data=[dict(x=x, y=y, \n",
    "           mode='lines', \n",
    "           line=dict(width=2, color='red')\n",
    "          ),\n",
    "      dict(x=x, y=y, \n",
    "           mode='lines', \n",
    "           line=dict(width=2, color='black')\n",
    "          )\n",
    "    ]\n",
    "\n",
    "layout=dict(xaxis=dict(range=[-10, 10], autorange=False, zeroline=True),\n",
    "            yaxis=dict(range=[-10, 10], autorange=False, zeroline=True),\n",
    "            title='Simple Animation Example', \n",
    "            hovermode=False,\n",
    "            updatemenus= [{\n",
    "                'buttons': [\n",
    "                    {\n",
    "                        'args': [None, {'frame': {'duration': 0, \n",
    "                                                  'redraw': False},\n",
    "                                        'fromcurrent': True, \n",
    "                                        'transition': {'duration': 300, \n",
    "                                                       'easing': 'quadratic-in-out'}}],\n",
    "                        'label': 'Play',\n",
    "                        'method': 'animate'\n",
    "                    },\n",
    "                    {\n",
    "                        'args': [[None], {'frame': {'duration': 0, \n",
    "                                                    'redraw': False}, \n",
    "                                          'mode': 'immediate',\n",
    "                                          'transition': {'duration': 300}}],\n",
    "                        'label': 'Pause',\n",
    "                        'method': 'animate'\n",
    "                    }],\n",
    "                'direction': 'left',\n",
    "                'pad': {'r': 10, 't': 87},\n",
    "                'showactive': True,\n",
    "                'type': 'buttons',\n",
    "                'x': 0.1,\n",
    "                'xanchor': 'right',\n",
    "                'y': 0,\n",
    "                'yanchor': 'top'\n",
    "            }])\n",
    "\n",
    "frames=[dict(data=[dict(x=[xx[k]], \n",
    "                        y=[yy[k]], \n",
    "                        mode='markers', \n",
    "                        marker=dict(color='red', size=8), \n",
    "                        )\n",
    "                  ]) for k in range(N)]    \n",
    "          \n",
    "figure1=dict(data=data, layout=layout, frames=frames)          "
   ]
  },
  {
   "cell_type": "code",
   "execution_count": null,
   "metadata": {
    "scrolled": false
   },
   "outputs": [],
   "source": [
    "pl1 = iplot(figure1)\n",
    "\n",
    "# output to html file (and in that file turn off autoplay)\n",
    "pl1 = plot(figure1, output_type='div')\n",
    "pl1 = re.sub(\"\\\\.then\\\\(function\\\\(\\\\)\\\\{Plotly\\\\.animate\\\\(\\\\'[0-9a-zA-Z-]*\\\\'\\\\)\\\\;\\\\}\\\\)\", \"\", pl1)\n",
    "with open('test.html', 'w') as fd:\n",
    "    fd.write(\"\"\"<html>\n",
    "<head>\n",
    "</head>\n",
    "<body>\n",
    "{}\n",
    "</body>\n",
    "</html>\n",
    "\"\"\".format(pl1))"
   ]
  },
  {
   "cell_type": "markdown",
   "metadata": {
    "collapsed": true
   },
   "source": [
    "## Projectile Motion"
   ]
  },
  {
   "cell_type": "code",
   "execution_count": null,
   "metadata": {
    "collapsed": true
   },
   "outputs": [],
   "source": [
    "x0 = 0\n",
    "y0 = 0\n",
    "\n",
    "v0x = 2\n",
    "v0y = 10\n",
    "\n",
    "t = np.linspace(0, 5,100)\n",
    "x = v0x*t\n",
    "y = v0y*t - .5*9.8*t**2\n",
    "\n",
    "xx=x\n",
    "yy=y\n",
    "\n",
    "N = len(xx)"
   ]
  },
  {
   "cell_type": "code",
   "execution_count": null,
   "metadata": {
    "collapsed": true
   },
   "outputs": [],
   "source": [
    "data=[dict(x=x, y=y, \n",
    "           mode='lines', \n",
    "           line=dict(width=2, color='red')\n",
    "          ),\n",
    "      dict(x=x, y=y, \n",
    "           mode='lines', \n",
    "           line=dict(width=2, color='black')\n",
    "          )\n",
    "    ]\n",
    "\n",
    "layout=dict(xaxis=dict(range=[-20, 20], autorange=False, zeroline=True),\n",
    "            yaxis=dict(range=[-20, 20], autorange=False, zeroline=True),\n",
    "            title='Projectile Motion', \n",
    "            hovermode=False,\n",
    "            updatemenus= [{\n",
    "                'buttons': [\n",
    "                    {\n",
    "                        'args': [None, {'frame': {'duration': 0, \n",
    "                                                  'redraw': False},\n",
    "                                        'fromcurrent': True, \n",
    "                                        'transition': {'duration': 300, \n",
    "                                                       'easing': 'quadratic-in-out'}}],\n",
    "                        'label': 'Play',\n",
    "                        'method': 'animate'\n",
    "                    },\n",
    "                    {\n",
    "                        'args': [[None], {'frame': {'duration': 0, \n",
    "                                                    'redraw': False}, \n",
    "                                          'mode': 'immediate',\n",
    "                                          'transition': {'duration': 300}}],\n",
    "                        'label': 'Pause',\n",
    "                        'method': 'animate'\n",
    "                    }],\n",
    "                'direction': 'left',\n",
    "                'pad': {'r': 10, 't': 87},\n",
    "                'showactive': True,\n",
    "                'type': 'buttons',\n",
    "                'x': 0.1,\n",
    "                'xanchor': 'right',\n",
    "                'y': 0,\n",
    "                'yanchor': 'top'\n",
    "            }])\n",
    "\n",
    "frames=[dict(data=[dict(x=[xx[k]], \n",
    "                        y=[yy[k]], \n",
    "                        mode='markers', \n",
    "                        marker=dict(color='red', size=8), \n",
    "                        )\n",
    "                  ]) for k in range(N)]    \n",
    "          \n",
    "figure1=dict(data=data, layout=layout, frames=frames)     "
   ]
  },
  {
   "cell_type": "code",
   "execution_count": null,
   "metadata": {},
   "outputs": [],
   "source": [
    "pl1 = iplot(figure1)\n",
    "\n",
    "# output to html file (and in that file turn off autoplay)\n",
    "pl1 = plot(figure1, output_type='div')\n",
    "pl1 = re.sub(\"\\\\.then\\\\(function\\\\(\\\\)\\\\{Plotly\\\\.animate\\\\(\\\\'[0-9a-zA-Z-]*\\\\'\\\\)\\\\;\\\\}\\\\)\", \"\", pl1)\n",
    "with open('proj_motion.html', 'w') as fd:\n",
    "    fd.write(\"\"\"<html>\n",
    "<head>\n",
    "</head>\n",
    "<body>\n",
    "{}\n",
    "</body>\n",
    "</html>\n",
    "\"\"\".format(pl1))"
   ]
  },
  {
   "cell_type": "markdown",
   "metadata": {},
   "source": [
    "## $E \\times B$ Drift"
   ]
  },
  {
   "cell_type": "code",
   "execution_count": null,
   "metadata": {
    "collapsed": true
   },
   "outputs": [],
   "source": [
    "x0 = 0\n",
    "y0 = 0\n",
    "\n",
    "v0x = 1\n",
    "v0y = 0"
   ]
  },
  {
   "cell_type": "code",
   "execution_count": null,
   "metadata": {
    "collapsed": true
   },
   "outputs": [],
   "source": [
    "t = np.linspace(0, 5,100)\n",
    "\n",
    "Ex = 2*np.linspace(0, 5,100)\n",
    "Ey = 0*np.linspace(0, 5,100)\n",
    "Ez = 0*np.linspace(0, 5,100)\n",
    "\n",
    "Bx = 0*np.linspace(0, 5,100)\n",
    "By = 0*np.linspace(0, 5,100)\n",
    "Bz = 2*np.linspace(0, 5,100)"
   ]
  },
  {
   "cell_type": "code",
   "execution_count": null,
   "metadata": {
    "collapsed": true
   },
   "outputs": [],
   "source": [
    "x = v0x*t\n",
    "y = v0y*t - .5*9.8*t**2\n",
    "\n",
    "xx=x\n",
    "yy=y\n",
    "\n",
    "N = len(xx)"
   ]
  },
  {
   "cell_type": "code",
   "execution_count": null,
   "metadata": {
    "collapsed": true
   },
   "outputs": [],
   "source": [
    "E = Vector(Ex,Ey,Ez)\n",
    "B = Vector(Bx,By,Bz)"
   ]
  },
  {
   "cell_type": "code",
   "execution_count": null,
   "metadata": {
    "collapsed": true
   },
   "outputs": [],
   "source": []
  }
 ],
 "metadata": {
  "anaconda-cloud": {},
  "hide_input": false,
  "kernelspec": {
   "display_name": "Python [conda root]",
   "language": "python",
   "name": "conda-root-py"
  },
  "language_info": {
   "codemirror_mode": {
    "name": "ipython",
    "version": 2
   },
   "file_extension": ".py",
   "mimetype": "text/x-python",
   "name": "python",
   "nbconvert_exporter": "python",
   "pygments_lexer": "ipython2",
   "version": "2.7.13"
  },
  "toc": {
   "nav_menu": {},
   "number_sections": true,
   "sideBar": true,
   "skip_h1_title": false,
   "toc_cell": true,
   "toc_position": {},
   "toc_section_display": "block",
   "toc_window_display": false
  }
 },
 "nbformat": 4,
 "nbformat_minor": 1
}
